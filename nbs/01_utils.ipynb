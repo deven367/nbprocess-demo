{
 "cells": [
  {
   "cell_type": "code",
   "execution_count": null,
   "id": "c3234659-fac1-4d1b-bb91-ecaafc81ea89",
   "metadata": {},
   "outputs": [],
   "source": [
    "#| default_exp utils"
   ]
  },
  {
   "cell_type": "markdown",
   "id": "c73e6f75-c83a-422f-b2ed-5b1ddbdaa14c",
   "metadata": {},
   "source": [
    "# Utils\n",
    "> Contains utility functions"
   ]
  },
  {
   "cell_type": "code",
   "execution_count": null,
   "id": "95221fab-359f-48a4-b896-780074565284",
   "metadata": {},
   "outputs": [],
   "source": [
    "#|export \n",
    "from pathlib import Path\n",
    "from itertools import islice\n",
    "\n",
    "space =  '    '\n",
    "branch = '│   '\n",
    "tee =    '├── '\n",
    "last =   '└── '"
   ]
  },
  {
   "cell_type": "code",
   "execution_count": null,
   "id": "7533d8c3-4c50-4e4a-8d3d-1eec048c1b14",
   "metadata": {},
   "outputs": [],
   "source": [
    "#| export\n",
    "def tree(\n",
    "    dir_path: Path, # path of the directory\n",
    "    level: int=-1, # level of folders to scrape\n",
    "    limit_to_directories: bool=False, # flag to either list or scrape folders\n",
    "    length_limit: int=1000, # length of the total output\n",
    "    )->None:\n",
    "    \"\"\"Given a directory Path object print a visual tree structure\"\"\"\n",
    "    dir_path = Path(dir_path) # accept string coerceable to Path\n",
    "    files = 0\n",
    "    directories = 0\n",
    "    def inner(dir_path: Path, prefix: str='', level=-1):\n",
    "        nonlocal files, directories\n",
    "        if not level: \n",
    "            return # 0, stop iterating\n",
    "        if limit_to_directories:\n",
    "            contents = [d for d in dir_path.iterdir() if d.is_dir()]\n",
    "        else: \n",
    "            contents = list(dir_path.iterdir())\n",
    "        pointers = [tee] * (len(contents) - 1) + [last]\n",
    "        for pointer, path in zip(pointers, contents):\n",
    "            if path.is_dir():\n",
    "                yield prefix + pointer + path.name\n",
    "                directories += 1\n",
    "                extension = branch if pointer == tee else space \n",
    "                yield from inner(path, prefix=prefix+extension, level=level-1)\n",
    "            elif not limit_to_directories:\n",
    "                yield prefix + pointer + path.name\n",
    "                files += 1\n",
    "    print(dir_path.name)\n",
    "    iterator = inner(dir_path, level=level)\n",
    "    for line in islice(iterator, length_limit):\n",
    "        print(line)\n",
    "    if next(iterator, None):\n",
    "        print(f'... length_limit, {length_limit}, reached, counted:')\n",
    "    print(f'\\n{directories} directories' + (f', {files} files' if files else ''))"
   ]
  },
  {
   "cell_type": "code",
   "execution_count": null,
   "id": "893a93fa-0aa8-44b3-8035-48a12181b1c8",
   "metadata": {},
   "outputs": [
    {
     "name": "stdout",
     "output_type": "stream",
     "text": [
      "\n",
      "├── .gitignore\n",
      "├── .quarto\n",
      "│   ├── crossref\n",
      "│   │   ├── index.ipynb\n",
      "│   │   │   ├── index.html.json\n",
      "│   │   │   └── README.md.json\n",
      "│   │   └── 00_core.ipynb\n",
      "│   │       └── core.html.json\n",
      "│   ├── idx\n",
      "│   │   ├── 00_core.ipynb.json\n",
      "│   │   └── index.ipynb.json\n",
      "│   └── preview\n",
      "│       └── lock\n",
      "├── docs\n",
      "│   ├── search.json\n",
      "│   ├── site_libs\n",
      "│   │   ├── bootstrap\n",
      "│   │   │   ├── bootstrap-icons.css\n",
      "│   │   │   ├── bootstrap.min.js\n",
      "│   │   │   ├── bootstrap.min.css\n",
      "│   │   │   └── bootstrap-icons.woff\n",
      "│   │   ├── quarto-html\n",
      "│   │   │   ├── quarto.js\n",
      "│   │   │   ├── tippy.umd.min.js\n",
      "│   │   │   ├── popper.min.js\n",
      "│   │   │   ├── quarto-syntax-highlighting.css\n",
      "│   │   │   ├── anchor.min.js\n",
      "│   │   │   └── tippy.css\n",
      "│   │   ├── clipboard\n",
      "│   │   │   └── clipboard.min.js\n",
      "│   │   ├── quarto-search\n",
      "│   │   │   ├── quarto-search.js\n",
      "│   │   │   ├── fuse.min.js\n",
      "│   │   │   └── autocomplete.umd.js\n",
      "│   │   └── quarto-nav\n",
      "│   │       ├── quarto-nav.js\n",
      "│   │       └── headroom.min.js\n",
      "│   ├── core.html\n",
      "│   └── index.html\n",
      "├── sidebar.yml\n",
      "├── .ipynb_checkpoints\n",
      "│   └── 01_utils-checkpoint.ipynb\n",
      "├── index.ipynb\n",
      "├── 01_utils.ipynb\n",
      "├── 00_core.ipynb\n",
      "└── _quarto.yml\n",
      "\n",
      "14 directories, 32 files\n"
     ]
    }
   ],
   "source": [
    "tree('.')"
   ]
  },
  {
   "cell_type": "code",
   "execution_count": null,
   "id": "d71ac616-7845-4145-a757-f11483659705",
   "metadata": {},
   "outputs": [],
   "source": []
  }
 ],
 "metadata": {
  "kernelspec": {
   "display_name": "Python 3.9.5 ('base')",
   "language": "python",
   "name": "python3"
  }
 },
 "nbformat": 4,
 "nbformat_minor": 5
}
